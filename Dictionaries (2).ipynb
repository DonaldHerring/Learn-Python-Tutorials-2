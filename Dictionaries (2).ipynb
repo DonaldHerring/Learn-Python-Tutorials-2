{
 "cells": [
  {
   "cell_type": "code",
   "execution_count": 1,
   "id": "cd08735f",
   "metadata": {},
   "outputs": [
    {
     "name": "stdout",
     "output_type": "stream",
     "text": [
      "Jake is listed in the phonebook.\n",
      "Jill is not listed in the phonebook.\n"
     ]
    }
   ],
   "source": [
    "phonebook = {  \n",
    "    \"John\" : 938477566,\n",
    "    \"Jack\" : 938377264,\n",
    "    \"Jill\" : 947662781\n",
    "}  \n",
    "\n",
    "# your code goes here\n",
    "phonebook[\"Jake\"] = 938273443  \n",
    "del phonebook[\"Jill\"]  \n",
    "\n",
    "# testing code\n",
    "if \"Jake\" in phonebook:  \n",
    "    print(\"Jake is listed in the phonebook.\")\n",
    "    \n",
    "if \"Jill\" not in phonebook:      \n",
    "    print(\"Jill is not listed in the phonebook.\") "
   ]
  },
  {
   "cell_type": "markdown",
   "id": "c6f7bd51",
   "metadata": {},
   "source": [
    "This is my code for dictionaries. It was part of the Learn Python Tutorials 2. I was tasked to add \"Jake\" to the phonebook with the phone number 938273443. I then had to remove Jill from the phonebook."
   ]
  }
 ],
 "metadata": {
  "kernelspec": {
   "display_name": "Python 3 (ipykernel)",
   "language": "python",
   "name": "python3"
  },
  "language_info": {
   "codemirror_mode": {
    "name": "ipython",
    "version": 3
   },
   "file_extension": ".py",
   "mimetype": "text/x-python",
   "name": "python",
   "nbconvert_exporter": "python",
   "pygments_lexer": "ipython3",
   "version": "3.9.7"
  }
 },
 "nbformat": 4,
 "nbformat_minor": 5
}
