{
 "cells": [
  {
   "cell_type": "code",
   "execution_count": 1,
   "id": "21f79e7e",
   "metadata": {},
   "outputs": [
    {
     "name": "stdout",
     "output_type": "stream",
     "text": [
      "1\n",
      "2\n",
      "3\n",
      "4\n",
      "5\n",
      "6\n"
     ]
    }
   ],
   "source": [
    "number = 16\n",
    "second_number = 0\n",
    "first_array = [1,2,3]\n",
    "second_array = [1,2]\n",
    "\n",
    "if number > 15:\n",
    "    print(\"1\")\n",
    "\n",
    "if first_array:\n",
    "    print(\"2\")\n",
    "\n",
    "if len(second_array) == 2:\n",
    "    print(\"3\")\n",
    "\n",
    "if len(first_array) + len(second_array) == 5:\n",
    "    print(\"4\")\n",
    "\n",
    "if first_array and first_array[0] == 1:\n",
    "    print(\"5\")\n",
    "\n",
    "if not second_number:\n",
    "    print(\"6\")"
   ]
  },
  {
   "cell_type": "markdown",
   "id": "4669f365",
   "metadata": {},
   "source": [
    "This is my code for conditions. It was part of the Learn Python Tutorials 2. I was tasked to change the variables in the first section so that each if statement resolved as True.\n",
    "\n"
   ]
  }
 ],
 "metadata": {
  "kernelspec": {
   "display_name": "Python 3 (ipykernel)",
   "language": "python",
   "name": "python3"
  },
  "language_info": {
   "codemirror_mode": {
    "name": "ipython",
    "version": 3
   },
   "file_extension": ".py",
   "mimetype": "text/x-python",
   "name": "python",
   "nbconvert_exporter": "python",
   "pygments_lexer": "ipython3",
   "version": "3.9.7"
  }
 },
 "nbformat": 4,
 "nbformat_minor": 5
}
